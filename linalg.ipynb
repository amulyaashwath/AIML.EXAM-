{
  "nbformat": 4,
  "nbformat_minor": 0,
  "metadata": {
    "colab": {
      "provenance": [],
      "authorship_tag": "ABX9TyMeNG+4gmIXVoYmbL3cSm3H",
      "include_colab_link": true
    },
    "kernelspec": {
      "name": "python3",
      "display_name": "Python 3"
    },
    "language_info": {
      "name": "python"
    }
  },
  "cells": [
    {
      "cell_type": "markdown",
      "metadata": {
        "id": "view-in-github",
        "colab_type": "text"
      },
      "source": [
        "<a href=\"https://colab.research.google.com/github/amulyaashwath/AIML.EXAM-/blob/main/linalg.ipynb\" target=\"_parent\"><img src=\"https://colab.research.google.com/assets/colab-badge.svg\" alt=\"Open In Colab\"/></a>"
      ]
    },
    {
      "cell_type": "markdown",
      "source": [
        "Creating matrix using array feature in numpy "
      ],
      "metadata": {
        "id": "LyQZO1o8kV32"
      }
    },
    {
      "cell_type": "code",
      "execution_count": 2,
      "metadata": {
        "colab": {
          "base_uri": "https://localhost:8080/"
        },
        "id": "xjbiVf_RkTWv",
        "outputId": "6094d166-759e-4d92-91f3-2e2a0b13abe4"
      },
      "outputs": [
        {
          "output_type": "stream",
          "name": "stdout",
          "text": [
            "a= [[ 1  3  7  2]\n",
            " [ 5  8 -9  0]\n",
            " [ 6 -7 11 12]]\n"
          ]
        }
      ],
      "source": [
        "import numpy as np \n",
        "a=np.array([[1,3,7,2],[5,8,-9,0],[6,-7,11,12]])\n",
        "print(\"a=\",a)"
      ]
    },
    {
      "cell_type": "markdown",
      "source": [
        "Matrix addition and subtraction "
      ],
      "metadata": {
        "id": "FVhnVirWlsWj"
      }
    },
    {
      "cell_type": "code",
      "source": [
        "import numpy as np\n",
        "a=np.array([[0,1],[-2,-3]])\n",
        "b=np.array([[1,0],[3,-2]])\n",
        "c=a+b\n",
        "print(\"a+b=\",c)\n",
        "c=a-b\n",
        "print(\"a-b=\",c)"
      ],
      "metadata": {
        "colab": {
          "base_uri": "https://localhost:8080/"
        },
        "id": "a_5d-6KTlw6V",
        "outputId": "22c6805d-1743-474b-a8d2-7aee810dfef1"
      },
      "execution_count": 3,
      "outputs": [
        {
          "output_type": "stream",
          "name": "stdout",
          "text": [
            "a+b= [[ 1  1]\n",
            " [ 1 -5]]\n",
            "a-b= [[-1  1]\n",
            " [-5 -1]]\n"
          ]
        }
      ]
    },
    {
      "cell_type": "markdown",
      "source": [
        "Multiplication matrix method "
      ],
      "metadata": {
        "id": "elYt2PI2mQnx"
      }
    },
    {
      "cell_type": "code",
      "source": [
        "c=np.dot(a,b)\n",
        "print(\"a*b=\",c)\n",
        "c=np.matmul(a,b)\n",
        "print(\"a*b=\",c)\n",
        "c=a.dot(b)\n",
        "print(\"a*b=\",c)"
      ],
      "metadata": {
        "colab": {
          "base_uri": "https://localhost:8080/"
        },
        "id": "IaRADLO_mUnR",
        "outputId": "06b6ce30-9ccc-4274-9f59-c4311d6feb59"
      },
      "execution_count": 6,
      "outputs": [
        {
          "output_type": "stream",
          "name": "stdout",
          "text": [
            "a*b= [[  3  -2]\n",
            " [-11   6]]\n",
            "a*b= [[  3  -2]\n",
            " [-11   6]]\n",
            "a*b= [[  3  -2]\n",
            " [-11   6]]\n"
          ]
        }
      ]
    },
    {
      "cell_type": "markdown",
      "source": [
        "Matrix transpose "
      ],
      "metadata": {
        "id": "_aZmqh4GmzGN"
      }
    },
    {
      "cell_type": "code",
      "source": [
        "import numpy as np \n",
        "a=np.array([[1,3,7,2],[5,8,-9,0],[6,-7,11,12]])\n",
        "print(\"a=\");print(a)\n",
        "Atr=np.transpose(a)\n",
        "print(\"transpose of a \");print(Atr)"
      ],
      "metadata": {
        "colab": {
          "base_uri": "https://localhost:8080/"
        },
        "id": "0G3EHlG_m2JF",
        "outputId": "ff51ae58-c391-437c-c3c3-6e07303f3def"
      },
      "execution_count": 7,
      "outputs": [
        {
          "output_type": "stream",
          "name": "stdout",
          "text": [
            "a=\n",
            "[[ 1  3  7  2]\n",
            " [ 5  8 -9  0]\n",
            " [ 6 -7 11 12]]\n",
            "transpose of a \n",
            "[[ 1  5  6]\n",
            " [ 3  8 -7]\n",
            " [ 7 -9 11]\n",
            " [ 2  0 12]]\n"
          ]
        }
      ]
    },
    {
      "cell_type": "markdown",
      "source": [
        "Creating Determinant"
      ],
      "metadata": {
        "id": "op7p7a8Znb1-"
      }
    },
    {
      "cell_type": "code",
      "source": [
        "import numpy as np\n",
        "import numpy.linalg as la \n",
        "a=np.array([[1,2],[3,4]])\n",
        "adet=la.det(a)\n",
        "print(adet)\n",
        "b=np.array([[-1,3,0],[2,1,-5],[1,4,-2]])\n",
        "bdet=la.det(b)\n",
        "print(bdet)"
      ],
      "metadata": {
        "colab": {
          "base_uri": "https://localhost:8080/"
        },
        "id": "38TbCaNGnfmH",
        "outputId": "98a1f45b-9181-4aff-d566-bbaa65e1509f"
      },
      "execution_count": 8,
      "outputs": [
        {
          "output_type": "stream",
          "name": "stdout",
          "text": [
            "-2.0000000000000004\n",
            "-21.00000000000001\n"
          ]
        }
      ]
    },
    {
      "cell_type": "markdown",
      "source": [
        "Inverse of Matrix"
      ],
      "metadata": {
        "id": "M-Vpi3jzoNJu"
      }
    },
    {
      "cell_type": "code",
      "source": [
        "import numpy as np\n",
        "import numpy.linalg as la \n",
        "a=np.array([[1,2],[3,4]])\n",
        "ainv=la.inv(a)\n",
        "print(ainv)\n",
        "b=np.array([[-1,3,0],[2,1,-5],[1,4,-2]])\n",
        "binv=la.inv(b)\n",
        "print(biv)"
      ],
      "metadata": {
        "colab": {
          "base_uri": "https://localhost:8080/"
        },
        "id": "UrhSIMTDoP_f",
        "outputId": "b3b6b1ae-7491-443b-ed89-b3f77889b8c3"
      },
      "execution_count": 9,
      "outputs": [
        {
          "output_type": "stream",
          "name": "stdout",
          "text": [
            "[[-2.   1. ]\n",
            " [ 1.5 -0.5]]\n",
            "[[-0.85714286 -0.28571429  0.71428571]\n",
            " [ 0.04761905 -0.0952381   0.23809524]\n",
            " [-0.33333333 -0.33333333  0.33333333]]\n"
          ]
        }
      ]
    },
    {
      "cell_type": "markdown",
      "source": [
        "Eigen Values "
      ],
      "metadata": {
        "id": "FZS3yFTqo208"
      }
    },
    {
      "cell_type": "code",
      "source": [
        "import numpy as np\n",
        "import numpy.linalg as la\n",
        "a=np.array([[0,1],[-2,-3]])\n",
        "aeig,v=la.eig(a)\n",
        "print(aeig)"
      ],
      "metadata": {
        "colab": {
          "base_uri": "https://localhost:8080/"
        },
        "id": "I-PpwPt8o5ef",
        "outputId": "fece8fa3-6536-408e-afad-e8fec13b58a3"
      },
      "execution_count": 11,
      "outputs": [
        {
          "output_type": "stream",
          "name": "stdout",
          "text": [
            "[-1. -2.]\n"
          ]
        }
      ]
    },
    {
      "cell_type": "markdown",
      "source": [
        "Solving linear algebra"
      ],
      "metadata": {
        "id": "1dMQtEpVpgmB"
      }
    },
    {
      "cell_type": "code",
      "source": [
        "import numpy as np\n",
        "import numpy.linalg as la \n",
        "a=np.array([[1,2],[3,4]])\n",
        "b=np.array([[5],[6]])\n",
        "ainv=la.inv(a)\n",
        "x=ainv.dot(b)\n",
        "print(x)"
      ],
      "metadata": {
        "colab": {
          "base_uri": "https://localhost:8080/"
        },
        "id": "CJKHjognpkC0",
        "outputId": "f5ab03d7-668b-4753-b619-6b8a920f7f0e"
      },
      "execution_count": 12,
      "outputs": [
        {
          "output_type": "stream",
          "name": "stdout",
          "text": [
            "[[-4. ]\n",
            " [ 4.5]]\n"
          ]
        }
      ]
    }
  ]
}